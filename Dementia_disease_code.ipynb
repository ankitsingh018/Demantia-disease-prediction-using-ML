{
 "cells": [
  {
   "cell_type": "code",
   "execution_count": 1,
   "id": "cd1ddfcc",
   "metadata": {},
   "outputs": [],
   "source": [
    "import numpy as np\n",
    "import matplotlib.pyplot as plt\n",
    "import pandas as pd\n",
    "import seaborn as sns\n",
    "import warnings\n",
    "warnings.filterwarnings('ignore')"
   ]
  },
  {
   "cell_type": "code",
   "execution_count": 2,
   "id": "5c174f86",
   "metadata": {},
   "outputs": [
    {
     "data": {
      "text/html": [
       "<div>\n",
       "<style scoped>\n",
       "    .dataframe tbody tr th:only-of-type {\n",
       "        vertical-align: middle;\n",
       "    }\n",
       "\n",
       "    .dataframe tbody tr th {\n",
       "        vertical-align: top;\n",
       "    }\n",
       "\n",
       "    .dataframe thead th {\n",
       "        text-align: right;\n",
       "    }\n",
       "</style>\n",
       "<table border=\"1\" class=\"dataframe\">\n",
       "  <thead>\n",
       "    <tr style=\"text-align: right;\">\n",
       "      <th></th>\n",
       "      <th>Subject ID</th>\n",
       "      <th>MRI ID</th>\n",
       "      <th>Group</th>\n",
       "      <th>Visit</th>\n",
       "      <th>MR Delay</th>\n",
       "      <th>M/F</th>\n",
       "      <th>Hand</th>\n",
       "      <th>Age</th>\n",
       "      <th>EDUC</th>\n",
       "      <th>SES</th>\n",
       "      <th>MMSE</th>\n",
       "      <th>CDR</th>\n",
       "      <th>eTIV</th>\n",
       "      <th>nWBV</th>\n",
       "      <th>ASF</th>\n",
       "    </tr>\n",
       "  </thead>\n",
       "  <tbody>\n",
       "    <tr>\n",
       "      <th>0</th>\n",
       "      <td>OAS2_0001</td>\n",
       "      <td>OAS2_0001_MR1</td>\n",
       "      <td>Nondemented</td>\n",
       "      <td>1</td>\n",
       "      <td>0</td>\n",
       "      <td>M</td>\n",
       "      <td>R</td>\n",
       "      <td>87</td>\n",
       "      <td>14</td>\n",
       "      <td>2.0</td>\n",
       "      <td>27.0</td>\n",
       "      <td>0.0</td>\n",
       "      <td>1987</td>\n",
       "      <td>0.696</td>\n",
       "      <td>0.883</td>\n",
       "    </tr>\n",
       "    <tr>\n",
       "      <th>1</th>\n",
       "      <td>OAS2_0001</td>\n",
       "      <td>OAS2_0001_MR2</td>\n",
       "      <td>Nondemented</td>\n",
       "      <td>2</td>\n",
       "      <td>457</td>\n",
       "      <td>M</td>\n",
       "      <td>R</td>\n",
       "      <td>88</td>\n",
       "      <td>14</td>\n",
       "      <td>2.0</td>\n",
       "      <td>30.0</td>\n",
       "      <td>0.0</td>\n",
       "      <td>2004</td>\n",
       "      <td>0.681</td>\n",
       "      <td>0.876</td>\n",
       "    </tr>\n",
       "    <tr>\n",
       "      <th>2</th>\n",
       "      <td>OAS2_0002</td>\n",
       "      <td>OAS2_0002_MR1</td>\n",
       "      <td>Demented</td>\n",
       "      <td>1</td>\n",
       "      <td>0</td>\n",
       "      <td>M</td>\n",
       "      <td>R</td>\n",
       "      <td>75</td>\n",
       "      <td>12</td>\n",
       "      <td>NaN</td>\n",
       "      <td>23.0</td>\n",
       "      <td>0.5</td>\n",
       "      <td>1678</td>\n",
       "      <td>0.736</td>\n",
       "      <td>1.046</td>\n",
       "    </tr>\n",
       "    <tr>\n",
       "      <th>3</th>\n",
       "      <td>OAS2_0002</td>\n",
       "      <td>OAS2_0002_MR2</td>\n",
       "      <td>Demented</td>\n",
       "      <td>2</td>\n",
       "      <td>560</td>\n",
       "      <td>M</td>\n",
       "      <td>R</td>\n",
       "      <td>76</td>\n",
       "      <td>12</td>\n",
       "      <td>NaN</td>\n",
       "      <td>28.0</td>\n",
       "      <td>0.5</td>\n",
       "      <td>1738</td>\n",
       "      <td>0.713</td>\n",
       "      <td>1.010</td>\n",
       "    </tr>\n",
       "    <tr>\n",
       "      <th>4</th>\n",
       "      <td>OAS2_0002</td>\n",
       "      <td>OAS2_0002_MR3</td>\n",
       "      <td>Demented</td>\n",
       "      <td>3</td>\n",
       "      <td>1895</td>\n",
       "      <td>M</td>\n",
       "      <td>R</td>\n",
       "      <td>80</td>\n",
       "      <td>12</td>\n",
       "      <td>NaN</td>\n",
       "      <td>22.0</td>\n",
       "      <td>0.5</td>\n",
       "      <td>1698</td>\n",
       "      <td>0.701</td>\n",
       "      <td>1.034</td>\n",
       "    </tr>\n",
       "  </tbody>\n",
       "</table>\n",
       "</div>"
      ],
      "text/plain": [
       "  Subject ID         MRI ID        Group  Visit  MR Delay M/F Hand  Age  EDUC  \\\n",
       "0  OAS2_0001  OAS2_0001_MR1  Nondemented      1         0   M    R   87    14   \n",
       "1  OAS2_0001  OAS2_0001_MR2  Nondemented      2       457   M    R   88    14   \n",
       "2  OAS2_0002  OAS2_0002_MR1     Demented      1         0   M    R   75    12   \n",
       "3  OAS2_0002  OAS2_0002_MR2     Demented      2       560   M    R   76    12   \n",
       "4  OAS2_0002  OAS2_0002_MR3     Demented      3      1895   M    R   80    12   \n",
       "\n",
       "   SES  MMSE  CDR  eTIV   nWBV    ASF  \n",
       "0  2.0  27.0  0.0  1987  0.696  0.883  \n",
       "1  2.0  30.0  0.0  2004  0.681  0.876  \n",
       "2  NaN  23.0  0.5  1678  0.736  1.046  \n",
       "3  NaN  28.0  0.5  1738  0.713  1.010  \n",
       "4  NaN  22.0  0.5  1698  0.701  1.034  "
      ]
     },
     "execution_count": 2,
     "metadata": {},
     "output_type": "execute_result"
    }
   ],
   "source": [
    "#To load dataset heart.csv\n",
    "df=pd.read_csv(\"dementia_dataset.csv\")\n",
    "#to display first 5 records\n",
    "df.head()"
   ]
  },
  {
   "cell_type": "code",
   "execution_count": 3,
   "id": "7f4b0b19",
   "metadata": {},
   "outputs": [
    {
     "data": {
      "text/html": [
       "<div>\n",
       "<style scoped>\n",
       "    .dataframe tbody tr th:only-of-type {\n",
       "        vertical-align: middle;\n",
       "    }\n",
       "\n",
       "    .dataframe tbody tr th {\n",
       "        vertical-align: top;\n",
       "    }\n",
       "\n",
       "    .dataframe thead th {\n",
       "        text-align: right;\n",
       "    }\n",
       "</style>\n",
       "<table border=\"1\" class=\"dataframe\">\n",
       "  <thead>\n",
       "    <tr style=\"text-align: right;\">\n",
       "      <th></th>\n",
       "      <th>Visit</th>\n",
       "      <th>MR Delay</th>\n",
       "      <th>Age</th>\n",
       "      <th>EDUC</th>\n",
       "      <th>SES</th>\n",
       "      <th>MMSE</th>\n",
       "      <th>CDR</th>\n",
       "      <th>eTIV</th>\n",
       "      <th>nWBV</th>\n",
       "      <th>ASF</th>\n",
       "    </tr>\n",
       "  </thead>\n",
       "  <tbody>\n",
       "    <tr>\n",
       "      <th>count</th>\n",
       "      <td>373.000000</td>\n",
       "      <td>373.000000</td>\n",
       "      <td>373.000000</td>\n",
       "      <td>373.000000</td>\n",
       "      <td>354.000000</td>\n",
       "      <td>371.000000</td>\n",
       "      <td>373.000000</td>\n",
       "      <td>373.000000</td>\n",
       "      <td>373.000000</td>\n",
       "      <td>373.000000</td>\n",
       "    </tr>\n",
       "    <tr>\n",
       "      <th>mean</th>\n",
       "      <td>1.882038</td>\n",
       "      <td>595.104558</td>\n",
       "      <td>77.013405</td>\n",
       "      <td>14.597855</td>\n",
       "      <td>2.460452</td>\n",
       "      <td>27.342318</td>\n",
       "      <td>0.290885</td>\n",
       "      <td>1488.128686</td>\n",
       "      <td>0.729568</td>\n",
       "      <td>1.195461</td>\n",
       "    </tr>\n",
       "    <tr>\n",
       "      <th>std</th>\n",
       "      <td>0.922843</td>\n",
       "      <td>635.485118</td>\n",
       "      <td>7.640957</td>\n",
       "      <td>2.876339</td>\n",
       "      <td>1.134005</td>\n",
       "      <td>3.683244</td>\n",
       "      <td>0.374557</td>\n",
       "      <td>176.139286</td>\n",
       "      <td>0.037135</td>\n",
       "      <td>0.138092</td>\n",
       "    </tr>\n",
       "    <tr>\n",
       "      <th>min</th>\n",
       "      <td>1.000000</td>\n",
       "      <td>0.000000</td>\n",
       "      <td>60.000000</td>\n",
       "      <td>6.000000</td>\n",
       "      <td>1.000000</td>\n",
       "      <td>4.000000</td>\n",
       "      <td>0.000000</td>\n",
       "      <td>1106.000000</td>\n",
       "      <td>0.644000</td>\n",
       "      <td>0.876000</td>\n",
       "    </tr>\n",
       "    <tr>\n",
       "      <th>25%</th>\n",
       "      <td>1.000000</td>\n",
       "      <td>0.000000</td>\n",
       "      <td>71.000000</td>\n",
       "      <td>12.000000</td>\n",
       "      <td>2.000000</td>\n",
       "      <td>27.000000</td>\n",
       "      <td>0.000000</td>\n",
       "      <td>1357.000000</td>\n",
       "      <td>0.700000</td>\n",
       "      <td>1.099000</td>\n",
       "    </tr>\n",
       "    <tr>\n",
       "      <th>50%</th>\n",
       "      <td>2.000000</td>\n",
       "      <td>552.000000</td>\n",
       "      <td>77.000000</td>\n",
       "      <td>15.000000</td>\n",
       "      <td>2.000000</td>\n",
       "      <td>29.000000</td>\n",
       "      <td>0.000000</td>\n",
       "      <td>1470.000000</td>\n",
       "      <td>0.729000</td>\n",
       "      <td>1.194000</td>\n",
       "    </tr>\n",
       "    <tr>\n",
       "      <th>75%</th>\n",
       "      <td>2.000000</td>\n",
       "      <td>873.000000</td>\n",
       "      <td>82.000000</td>\n",
       "      <td>16.000000</td>\n",
       "      <td>3.000000</td>\n",
       "      <td>30.000000</td>\n",
       "      <td>0.500000</td>\n",
       "      <td>1597.000000</td>\n",
       "      <td>0.756000</td>\n",
       "      <td>1.293000</td>\n",
       "    </tr>\n",
       "    <tr>\n",
       "      <th>max</th>\n",
       "      <td>5.000000</td>\n",
       "      <td>2639.000000</td>\n",
       "      <td>98.000000</td>\n",
       "      <td>23.000000</td>\n",
       "      <td>5.000000</td>\n",
       "      <td>30.000000</td>\n",
       "      <td>2.000000</td>\n",
       "      <td>2004.000000</td>\n",
       "      <td>0.837000</td>\n",
       "      <td>1.587000</td>\n",
       "    </tr>\n",
       "  </tbody>\n",
       "</table>\n",
       "</div>"
      ],
      "text/plain": [
       "            Visit     MR Delay         Age        EDUC         SES  \\\n",
       "count  373.000000   373.000000  373.000000  373.000000  354.000000   \n",
       "mean     1.882038   595.104558   77.013405   14.597855    2.460452   \n",
       "std      0.922843   635.485118    7.640957    2.876339    1.134005   \n",
       "min      1.000000     0.000000   60.000000    6.000000    1.000000   \n",
       "25%      1.000000     0.000000   71.000000   12.000000    2.000000   \n",
       "50%      2.000000   552.000000   77.000000   15.000000    2.000000   \n",
       "75%      2.000000   873.000000   82.000000   16.000000    3.000000   \n",
       "max      5.000000  2639.000000   98.000000   23.000000    5.000000   \n",
       "\n",
       "             MMSE         CDR         eTIV        nWBV         ASF  \n",
       "count  371.000000  373.000000   373.000000  373.000000  373.000000  \n",
       "mean    27.342318    0.290885  1488.128686    0.729568    1.195461  \n",
       "std      3.683244    0.374557   176.139286    0.037135    0.138092  \n",
       "min      4.000000    0.000000  1106.000000    0.644000    0.876000  \n",
       "25%     27.000000    0.000000  1357.000000    0.700000    1.099000  \n",
       "50%     29.000000    0.000000  1470.000000    0.729000    1.194000  \n",
       "75%     30.000000    0.500000  1597.000000    0.756000    1.293000  \n",
       "max     30.000000    2.000000  2004.000000    0.837000    1.587000  "
      ]
     },
     "execution_count": 3,
     "metadata": {},
     "output_type": "execute_result"
    }
   ],
   "source": [
    "df.describe()"
   ]
  },
  {
   "cell_type": "code",
   "execution_count": 4,
   "id": "4afb7239",
   "metadata": {},
   "outputs": [
    {
     "data": {
      "text/plain": [
       "Subject ID     0\n",
       "MRI ID         0\n",
       "Group          0\n",
       "Visit          0\n",
       "MR Delay       0\n",
       "M/F            0\n",
       "Hand           0\n",
       "Age            0\n",
       "EDUC           0\n",
       "SES           19\n",
       "MMSE           2\n",
       "CDR            0\n",
       "eTIV           0\n",
       "nWBV           0\n",
       "ASF            0\n",
       "dtype: int64"
      ]
     },
     "execution_count": 4,
     "metadata": {},
     "output_type": "execute_result"
    }
   ],
   "source": [
    "#to check null values\n",
    "df.isnull().sum()"
   ]
  },
  {
   "cell_type": "code",
   "execution_count": 5,
   "id": "9c3be18c",
   "metadata": {},
   "outputs": [
    {
     "data": {
      "image/png": "[encoded data removed]",
      "text/plain": [
       "<Figure size 432x288 with 2 Axes>"
      ]
     },
     "metadata": {
      "needs_background": "light"
     },
     "output_type": "display_data"
    }
   ],
   "source": [
    "#visualize\n",
    "sns.heatmap(df.isnull())\n",
    "plt.show()"
   ]
  },
  {
   "cell_type": "code",
   "execution_count": 6,
   "id": "289db6ff",
   "metadata": {},
   "outputs": [],
   "source": [
    "df[['SES','MMSE']].dropna(inplace=True)"
   ]
  },
  {
   "cell_type": "code",
   "execution_count": 7,
   "id": "47d061b8",
   "metadata": {},
   "outputs": [],
   "source": [
    "df=df.dropna()"
   ]
  },
  {
   "cell_type": "code",
   "execution_count": 8,
   "id": "3f36f32d",
   "metadata": {},
   "outputs": [
    {
     "data": {
      "text/plain": [
       "Subject ID    0\n",
       "MRI ID        0\n",
       "Group         0\n",
       "Visit         0\n",
       "MR Delay      0\n",
       "M/F           0\n",
       "Hand          0\n",
       "Age           0\n",
       "EDUC          0\n",
       "SES           0\n",
       "MMSE          0\n",
       "CDR           0\n",
       "eTIV          0\n",
       "nWBV          0\n",
       "ASF           0\n",
       "dtype: int64"
      ]
     },
     "execution_count": 8,
     "metadata": {},
     "output_type": "execute_result"
    }
   ],
   "source": [
    "#to check null values\n",
    "df.isnull().sum()"
   ]
  },
  {
   "cell_type": "code",
   "execution_count": 9,
   "id": "255a7b26",
   "metadata": {},
   "outputs": [
    {
     "data": {
      "text/plain": [
       "Subject ID     object\n",
       "MRI ID         object\n",
       "Group          object\n",
       "Visit           int64\n",
       "MR Delay        int64\n",
       "M/F            object\n",
       "Hand           object\n",
       "Age             int64\n",
       "EDUC            int64\n",
       "SES           float64\n",
       "MMSE          float64\n",
       "CDR           float64\n",
       "eTIV            int64\n",
       "nWBV          float64\n",
       "ASF           float64\n",
       "dtype: object"
      ]
     },
     "execution_count": 9,
     "metadata": {},
     "output_type": "execute_result"
    }
   ],
   "source": [
    "#to check datatypes\n",
    "df.dtypes"
   ]
  },
  {
   "cell_type": "code",
   "execution_count": null,
   "id": "dd35bac3",
   "metadata": {},
   "outputs": [],
   "source": []
  },
  {
   "cell_type": "code",
   "execution_count": 10,
   "id": "83c69ccd",
   "metadata": {},
   "outputs": [
    {
     "data": {
      "text/plain": [
       "0"
      ]
     },
     "execution_count": 10,
     "metadata": {},
     "output_type": "execute_result"
    }
   ],
   "source": [
    "#to check duplicates\n",
    "df.duplicated().sum()"
   ]
  },
  {
   "cell_type": "code",
   "execution_count": 11,
   "id": "88302ab8",
   "metadata": {},
   "outputs": [],
   "source": [
    "#split dataset heart into 2 part\n",
    "#first part hold all numeric type data\n",
    "#second part hold all object type data\n",
    "df_num=df.select_dtypes(['int64','float64'])\n",
    "df_cat=df.select_dtypes(object)"
   ]
  },
  {
   "cell_type": "code",
   "execution_count": 12,
   "id": "b346e9d8",
   "metadata": {},
   "outputs": [
    {
     "data": {
      "text/html": [
       "<div>\n",
       "<style scoped>\n",
       "    .dataframe tbody tr th:only-of-type {\n",
       "        vertical-align: middle;\n",
       "    }\n",
       "\n",
       "    .dataframe tbody tr th {\n",
       "        vertical-align: top;\n",
       "    }\n",
       "\n",
       "    .dataframe thead th {\n",
       "        text-align: right;\n",
       "    }\n",
       "</style>\n",
       "<table border=\"1\" class=\"dataframe\">\n",
       "  <thead>\n",
       "    <tr style=\"text-align: right;\">\n",
       "      <th></th>\n",
       "      <th>Visit</th>\n",
       "      <th>MR Delay</th>\n",
       "      <th>Age</th>\n",
       "      <th>EDUC</th>\n",
       "      <th>SES</th>\n",
       "      <th>MMSE</th>\n",
       "      <th>CDR</th>\n",
       "      <th>eTIV</th>\n",
       "      <th>nWBV</th>\n",
       "      <th>ASF</th>\n",
       "    </tr>\n",
       "  </thead>\n",
       "  <tbody>\n",
       "    <tr>\n",
       "      <th>0</th>\n",
       "      <td>1</td>\n",
       "      <td>0</td>\n",
       "      <td>87</td>\n",
       "      <td>14</td>\n",
       "      <td>2.0</td>\n",
       "      <td>27.0</td>\n",
       "      <td>0.0</td>\n",
       "      <td>1987</td>\n",
       "      <td>0.696</td>\n",
       "      <td>0.883</td>\n",
       "    </tr>\n",
       "    <tr>\n",
       "      <th>1</th>\n",
       "      <td>2</td>\n",
       "      <td>457</td>\n",
       "      <td>88</td>\n",
       "      <td>14</td>\n",
       "      <td>2.0</td>\n",
       "      <td>30.0</td>\n",
       "      <td>0.0</td>\n",
       "      <td>2004</td>\n",
       "      <td>0.681</td>\n",
       "      <td>0.876</td>\n",
       "    </tr>\n",
       "    <tr>\n",
       "      <th>5</th>\n",
       "      <td>1</td>\n",
       "      <td>0</td>\n",
       "      <td>88</td>\n",
       "      <td>18</td>\n",
       "      <td>3.0</td>\n",
       "      <td>28.0</td>\n",
       "      <td>0.0</td>\n",
       "      <td>1215</td>\n",
       "      <td>0.710</td>\n",
       "      <td>1.444</td>\n",
       "    </tr>\n",
       "    <tr>\n",
       "      <th>6</th>\n",
       "      <td>2</td>\n",
       "      <td>538</td>\n",
       "      <td>90</td>\n",
       "      <td>18</td>\n",
       "      <td>3.0</td>\n",
       "      <td>27.0</td>\n",
       "      <td>0.0</td>\n",
       "      <td>1200</td>\n",
       "      <td>0.718</td>\n",
       "      <td>1.462</td>\n",
       "    </tr>\n",
       "    <tr>\n",
       "      <th>7</th>\n",
       "      <td>1</td>\n",
       "      <td>0</td>\n",
       "      <td>80</td>\n",
       "      <td>12</td>\n",
       "      <td>4.0</td>\n",
       "      <td>28.0</td>\n",
       "      <td>0.0</td>\n",
       "      <td>1689</td>\n",
       "      <td>0.712</td>\n",
       "      <td>1.039</td>\n",
       "    </tr>\n",
       "  </tbody>\n",
       "</table>\n",
       "</div>"
      ],
      "text/plain": [
       "   Visit  MR Delay  Age  EDUC  SES  MMSE  CDR  eTIV   nWBV    ASF\n",
       "0      1         0   87    14  2.0  27.0  0.0  1987  0.696  0.883\n",
       "1      2       457   88    14  2.0  30.0  0.0  2004  0.681  0.876\n",
       "5      1         0   88    18  3.0  28.0  0.0  1215  0.710  1.444\n",
       "6      2       538   90    18  3.0  27.0  0.0  1200  0.718  1.462\n",
       "7      1         0   80    12  4.0  28.0  0.0  1689  0.712  1.039"
      ]
     },
     "execution_count": 12,
     "metadata": {},
     "output_type": "execute_result"
    }
   ],
   "source": [
    "df_num.head()"
   ]
  },
  {
   "cell_type": "code",
   "execution_count": 13,
   "id": "a899a3b8",
   "metadata": {},
   "outputs": [
    {
     "data": {
      "text/html": [
       "<div>\n",
       "<style scoped>\n",
       "    .dataframe tbody tr th:only-of-type {\n",
       "        vertical-align: middle;\n",
       "    }\n",
       "\n",
       "    .dataframe tbody tr th {\n",
       "        vertical-align: top;\n",
       "    }\n",
       "\n",
       "    .dataframe thead th {\n",
       "        text-align: right;\n",
       "    }\n",
       "</style>\n",
       "<table border=\"1\" class=\"dataframe\">\n",
       "  <thead>\n",
       "    <tr style=\"text-align: right;\">\n",
       "      <th></th>\n",
       "      <th>Subject ID</th>\n",
       "      <th>MRI ID</th>\n",
       "      <th>Group</th>\n",
       "      <th>M/F</th>\n",
       "      <th>Hand</th>\n",
       "    </tr>\n",
       "  </thead>\n",
       "  <tbody>\n",
       "    <tr>\n",
       "      <th>0</th>\n",
       "      <td>OAS2_0001</td>\n",
       "      <td>OAS2_0001_MR1</td>\n",
       "      <td>Nondemented</td>\n",
       "      <td>M</td>\n",
       "      <td>R</td>\n",
       "    </tr>\n",
       "    <tr>\n",
       "      <th>1</th>\n",
       "      <td>OAS2_0001</td>\n",
       "      <td>OAS2_0001_MR2</td>\n",
       "      <td>Nondemented</td>\n",
       "      <td>M</td>\n",
       "      <td>R</td>\n",
       "    </tr>\n",
       "    <tr>\n",
       "      <th>5</th>\n",
       "      <td>OAS2_0004</td>\n",
       "      <td>OAS2_0004_MR1</td>\n",
       "      <td>Nondemented</td>\n",
       "      <td>F</td>\n",
       "      <td>R</td>\n",
       "    </tr>\n",
       "    <tr>\n",
       "      <th>6</th>\n",
       "      <td>OAS2_0004</td>\n",
       "      <td>OAS2_0004_MR2</td>\n",
       "      <td>Nondemented</td>\n",
       "      <td>F</td>\n",
       "      <td>R</td>\n",
       "    </tr>\n",
       "    <tr>\n",
       "      <th>7</th>\n",
       "      <td>OAS2_0005</td>\n",
       "      <td>OAS2_0005_MR1</td>\n",
       "      <td>Nondemented</td>\n",
       "      <td>M</td>\n",
       "      <td>R</td>\n",
       "    </tr>\n",
       "  </tbody>\n",
       "</table>\n",
       "</div>"
      ],
      "text/plain": [
       "  Subject ID         MRI ID        Group M/F Hand\n",
       "0  OAS2_0001  OAS2_0001_MR1  Nondemented   M    R\n",
       "1  OAS2_0001  OAS2_0001_MR2  Nondemented   M    R\n",
       "5  OAS2_0004  OAS2_0004_MR1  Nondemented   F    R\n",
       "6  OAS2_0004  OAS2_0004_MR2  Nondemented   F    R\n",
       "7  OAS2_0005  OAS2_0005_MR1  Nondemented   M    R"
      ]
     },
     "execution_count": 13,
     "metadata": {},
     "output_type": "execute_result"
    }
   ],
   "source": [
    "df_cat.head()"
   ]
  },
  {
   "cell_type": "code",
   "execution_count": 14,
   "id": "b0c894b2",
   "metadata": {},
   "outputs": [
    {
     "data": {
      "text/plain": [
       "Visit         int64\n",
       "MR Delay      int64\n",
       "Age           int64\n",
       "EDUC          int64\n",
       "SES         float64\n",
       "MMSE        float64\n",
       "CDR         float64\n",
       "eTIV          int64\n",
       "nWBV        float64\n",
       "ASF         float64\n",
       "dtype: object"
      ]
     },
     "execution_count": 14,
     "metadata": {},
     "output_type": "execute_result"
    }
   ],
   "source": [
    "df_num.dtypes"
   ]
  },
  {
   "cell_type": "code",
   "execution_count": 15,
   "id": "d1aec320",
   "metadata": {},
   "outputs": [
    {
     "data": {
      "text/plain": [
       "Subject ID    object\n",
       "MRI ID        object\n",
       "Group         object\n",
       "M/F           object\n",
       "Hand          object\n",
       "dtype: object"
      ]
     },
     "execution_count": 15,
     "metadata": {},
     "output_type": "execute_result"
    }
   ],
   "source": [
    "df_cat.dtypes"
   ]
  },
  {
   "cell_type": "code",
   "execution_count": 16,
   "id": "a267f411",
   "metadata": {},
   "outputs": [],
   "source": [
    "# using labelencoder  to convert categorical data into numerical data\n",
    "from sklearn.preprocessing import LabelEncoder"
   ]
  },
  {
   "cell_type": "code",
   "execution_count": 17,
   "id": "88cfffa1",
   "metadata": {},
   "outputs": [
    {
     "data": {
      "text/plain": [
       "Index(['Subject ID', 'MRI ID', 'Group', 'M/F', 'Hand'], dtype='object')"
      ]
     },
     "execution_count": 17,
     "metadata": {},
     "output_type": "execute_result"
    }
   ],
   "source": [
    "columns=df_cat.columns\n",
    "columns"
   ]
  },
  {
   "cell_type": "code",
   "execution_count": 18,
   "id": "15cff359",
   "metadata": {},
   "outputs": [],
   "source": [
    "for col in columns:\n",
    "    #creating object of labelencoder\n",
    "    le=LabelEncoder()\n",
    "    df_cat[col]=le.fit_transform(df_cat[col])"
   ]
  },
  {
   "cell_type": "code",
   "execution_count": 19,
   "id": "1544f0b0",
   "metadata": {},
   "outputs": [
    {
     "data": {
      "text/html": [
       "<div>\n",
       "<style scoped>\n",
       "    .dataframe tbody tr th:only-of-type {\n",
       "        vertical-align: middle;\n",
       "    }\n",
       "\n",
       "    .dataframe tbody tr th {\n",
       "        vertical-align: top;\n",
       "    }\n",
       "\n",
       "    .dataframe thead th {\n",
       "        text-align: right;\n",
       "    }\n",
       "</style>\n",
       "<table border=\"1\" class=\"dataframe\">\n",
       "  <thead>\n",
       "    <tr style=\"text-align: right;\">\n",
       "      <th></th>\n",
       "      <th>Subject ID</th>\n",
       "      <th>MRI ID</th>\n",
       "      <th>Group</th>\n",
       "      <th>M/F</th>\n",
       "      <th>Hand</th>\n",
       "    </tr>\n",
       "  </thead>\n",
       "  <tbody>\n",
       "    <tr>\n",
       "      <th>0</th>\n",
       "      <td>0</td>\n",
       "      <td>0</td>\n",
       "      <td>2</td>\n",
       "      <td>1</td>\n",
       "      <td>0</td>\n",
       "    </tr>\n",
       "    <tr>\n",
       "      <th>1</th>\n",
       "      <td>0</td>\n",
       "      <td>1</td>\n",
       "      <td>2</td>\n",
       "      <td>1</td>\n",
       "      <td>0</td>\n",
       "    </tr>\n",
       "    <tr>\n",
       "      <th>5</th>\n",
       "      <td>1</td>\n",
       "      <td>2</td>\n",
       "      <td>2</td>\n",
       "      <td>0</td>\n",
       "      <td>0</td>\n",
       "    </tr>\n",
       "    <tr>\n",
       "      <th>6</th>\n",
       "      <td>1</td>\n",
       "      <td>3</td>\n",
       "      <td>2</td>\n",
       "      <td>0</td>\n",
       "      <td>0</td>\n",
       "    </tr>\n",
       "    <tr>\n",
       "      <th>7</th>\n",
       "      <td>2</td>\n",
       "      <td>4</td>\n",
       "      <td>2</td>\n",
       "      <td>1</td>\n",
       "      <td>0</td>\n",
       "    </tr>\n",
       "  </tbody>\n",
       "</table>\n",
       "</div>"
      ],
      "text/plain": [
       "   Subject ID  MRI ID  Group  M/F  Hand\n",
       "0           0       0      2    1     0\n",
       "1           0       1      2    1     0\n",
       "5           1       2      2    0     0\n",
       "6           1       3      2    0     0\n",
       "7           2       4      2    1     0"
      ]
     },
     "execution_count": 19,
     "metadata": {},
     "output_type": "execute_result"
    }
   ],
   "source": [
    "df_cat.head()"
   ]
  },
  {
   "cell_type": "code",
   "execution_count": 20,
   "id": "4f50a322",
   "metadata": {},
   "outputs": [
    {
     "data": {
      "text/html": [
       "<div>\n",
       "<style scoped>\n",
       "    .dataframe tbody tr th:only-of-type {\n",
       "        vertical-align: middle;\n",
       "    }\n",
       "\n",
       "    .dataframe tbody tr th {\n",
       "        vertical-align: top;\n",
       "    }\n",
       "\n",
       "    .dataframe thead th {\n",
       "        text-align: right;\n",
       "    }\n",
       "</style>\n",
       "<table border=\"1\" class=\"dataframe\">\n",
       "  <thead>\n",
       "    <tr style=\"text-align: right;\">\n",
       "      <th></th>\n",
       "      <th>Visit</th>\n",
       "      <th>MR Delay</th>\n",
       "      <th>Age</th>\n",
       "      <th>EDUC</th>\n",
       "      <th>SES</th>\n",
       "      <th>MMSE</th>\n",
       "      <th>CDR</th>\n",
       "      <th>eTIV</th>\n",
       "      <th>nWBV</th>\n",
       "      <th>ASF</th>\n",
       "      <th>Subject ID</th>\n",
       "      <th>MRI ID</th>\n",
       "      <th>Group</th>\n",
       "      <th>M/F</th>\n",
       "      <th>Hand</th>\n",
       "    </tr>\n",
       "  </thead>\n",
       "  <tbody>\n",
       "    <tr>\n",
       "      <th>0</th>\n",
       "      <td>1</td>\n",
       "      <td>0</td>\n",
       "      <td>87</td>\n",
       "      <td>14</td>\n",
       "      <td>2.0</td>\n",
       "      <td>27.0</td>\n",
       "      <td>0.0</td>\n",
       "      <td>1987</td>\n",
       "      <td>0.696</td>\n",
       "      <td>0.883</td>\n",
       "      <td>0</td>\n",
       "      <td>0</td>\n",
       "      <td>2</td>\n",
       "      <td>1</td>\n",
       "      <td>0</td>\n",
       "    </tr>\n",
       "    <tr>\n",
       "      <th>1</th>\n",
       "      <td>2</td>\n",
       "      <td>457</td>\n",
       "      <td>88</td>\n",
       "      <td>14</td>\n",
       "      <td>2.0</td>\n",
       "      <td>30.0</td>\n",
       "      <td>0.0</td>\n",
       "      <td>2004</td>\n",
       "      <td>0.681</td>\n",
       "      <td>0.876</td>\n",
       "      <td>0</td>\n",
       "      <td>1</td>\n",
       "      <td>2</td>\n",
       "      <td>1</td>\n",
       "      <td>0</td>\n",
       "    </tr>\n",
       "    <tr>\n",
       "      <th>5</th>\n",
       "      <td>1</td>\n",
       "      <td>0</td>\n",
       "      <td>88</td>\n",
       "      <td>18</td>\n",
       "      <td>3.0</td>\n",
       "      <td>28.0</td>\n",
       "      <td>0.0</td>\n",
       "      <td>1215</td>\n",
       "      <td>0.710</td>\n",
       "      <td>1.444</td>\n",
       "      <td>1</td>\n",
       "      <td>2</td>\n",
       "      <td>2</td>\n",
       "      <td>0</td>\n",
       "      <td>0</td>\n",
       "    </tr>\n",
       "    <tr>\n",
       "      <th>6</th>\n",
       "      <td>2</td>\n",
       "      <td>538</td>\n",
       "      <td>90</td>\n",
       "      <td>18</td>\n",
       "      <td>3.0</td>\n",
       "      <td>27.0</td>\n",
       "      <td>0.0</td>\n",
       "      <td>1200</td>\n",
       "      <td>0.718</td>\n",
       "      <td>1.462</td>\n",
       "      <td>1</td>\n",
       "      <td>3</td>\n",
       "      <td>2</td>\n",
       "      <td>0</td>\n",
       "      <td>0</td>\n",
       "    </tr>\n",
       "    <tr>\n",
       "      <th>7</th>\n",
       "      <td>1</td>\n",
       "      <td>0</td>\n",
       "      <td>80</td>\n",
       "      <td>12</td>\n",
       "      <td>4.0</td>\n",
       "      <td>28.0</td>\n",
       "      <td>0.0</td>\n",
       "      <td>1689</td>\n",
       "      <td>0.712</td>\n",
       "      <td>1.039</td>\n",
       "      <td>2</td>\n",
       "      <td>4</td>\n",
       "      <td>2</td>\n",
       "      <td>1</td>\n",
       "      <td>0</td>\n",
       "    </tr>\n",
       "  </tbody>\n",
       "</table>\n",
       "</div>"
      ],
      "text/plain": [
       "   Visit  MR Delay  Age  EDUC  SES  MMSE  CDR  eTIV   nWBV    ASF  Subject ID  \\\n",
       "0      1         0   87    14  2.0  27.0  0.0  1987  0.696  0.883           0   \n",
       "1      2       457   88    14  2.0  30.0  0.0  2004  0.681  0.876           0   \n",
       "5      1         0   88    18  3.0  28.0  0.0  1215  0.710  1.444           1   \n",
       "6      2       538   90    18  3.0  27.0  0.0  1200  0.718  1.462           1   \n",
       "7      1         0   80    12  4.0  28.0  0.0  1689  0.712  1.039           2   \n",
       "\n",
       "   MRI ID  Group  M/F  Hand  \n",
       "0       0      2    1     0  \n",
       "1       1      2    1     0  \n",
       "5       2      2    0     0  \n",
       "6       3      2    0     0  \n",
       "7       4      2    1     0  "
      ]
     },
     "execution_count": 20,
     "metadata": {},
     "output_type": "execute_result"
    }
   ],
   "source": [
    "df_new=pd.concat([df_num,df_cat],axis=1)\n",
    "df_new.head()"
   ]
  },
  {
   "cell_type": "code",
   "execution_count": 21,
   "id": "29b2ba14",
   "metadata": {},
   "outputs": [
    {
     "data": {
      "text/plain": [
       "0"
      ]
     },
     "execution_count": 21,
     "metadata": {},
     "output_type": "execute_result"
    }
   ],
   "source": [
    "df_new.duplicated().sum()"
   ]
  },
  {
   "cell_type": "code",
   "execution_count": 22,
   "id": "3c879c3e",
   "metadata": {},
   "outputs": [
    {
     "data": {
      "text/plain": [
       "Visit           int64\n",
       "MR Delay        int64\n",
       "Age             int64\n",
       "EDUC            int64\n",
       "SES           float64\n",
       "MMSE          float64\n",
       "CDR           float64\n",
       "eTIV            int64\n",
       "nWBV          float64\n",
       "ASF           float64\n",
       "Subject ID      int32\n",
       "MRI ID          int32\n",
       "Group           int32\n",
       "M/F             int32\n",
       "Hand            int32\n",
       "dtype: object"
      ]
     },
     "execution_count": 22,
     "metadata": {},
     "output_type": "execute_result"
    }
   ],
   "source": [
    "df_new.dtypes"
   ]
  },
  {
   "cell_type": "code",
   "execution_count": 23,
   "id": "ede98427",
   "metadata": {},
   "outputs": [],
   "source": [
    "X=df_new.drop('ASF',axis=1)\n",
    "Y=df_new['Group']"
   ]
  },
  {
   "cell_type": "code",
   "execution_count": 24,
   "id": "097fc03f",
   "metadata": {},
   "outputs": [
    {
     "data": {
      "text/html": [
       "<div>\n",
       "<style scoped>\n",
       "    .dataframe tbody tr th:only-of-type {\n",
       "        vertical-align: middle;\n",
       "    }\n",
       "\n",
       "    .dataframe tbody tr th {\n",
       "        vertical-align: top;\n",
       "    }\n",
       "\n",
       "    .dataframe thead th {\n",
       "        text-align: right;\n",
       "    }\n",
       "</style>\n",
       "<table border=\"1\" class=\"dataframe\">\n",
       "  <thead>\n",
       "    <tr style=\"text-align: right;\">\n",
       "      <th></th>\n",
       "      <th>Visit</th>\n",
       "      <th>MR Delay</th>\n",
       "      <th>Age</th>\n",
       "      <th>EDUC</th>\n",
       "      <th>SES</th>\n",
       "      <th>MMSE</th>\n",
       "      <th>CDR</th>\n",
       "      <th>eTIV</th>\n",
       "      <th>nWBV</th>\n",
       "      <th>Subject ID</th>\n",
       "      <th>MRI ID</th>\n",
       "      <th>Group</th>\n",
       "      <th>M/F</th>\n",
       "      <th>Hand</th>\n",
       "    </tr>\n",
       "  </thead>\n",
       "  <tbody>\n",
       "    <tr>\n",
       "      <th>0</th>\n",
       "      <td>1</td>\n",
       "      <td>0</td>\n",
       "      <td>87</td>\n",
       "      <td>14</td>\n",
       "      <td>2.0</td>\n",
       "      <td>27.0</td>\n",
       "      <td>0.0</td>\n",
       "      <td>1987</td>\n",
       "      <td>0.696</td>\n",
       "      <td>0</td>\n",
       "      <td>0</td>\n",
       "      <td>2</td>\n",
       "      <td>1</td>\n",
       "      <td>0</td>\n",
       "    </tr>\n",
       "    <tr>\n",
       "      <th>1</th>\n",
       "      <td>2</td>\n",
       "      <td>457</td>\n",
       "      <td>88</td>\n",
       "      <td>14</td>\n",
       "      <td>2.0</td>\n",
       "      <td>30.0</td>\n",
       "      <td>0.0</td>\n",
       "      <td>2004</td>\n",
       "      <td>0.681</td>\n",
       "      <td>0</td>\n",
       "      <td>1</td>\n",
       "      <td>2</td>\n",
       "      <td>1</td>\n",
       "      <td>0</td>\n",
       "    </tr>\n",
       "    <tr>\n",
       "      <th>5</th>\n",
       "      <td>1</td>\n",
       "      <td>0</td>\n",
       "      <td>88</td>\n",
       "      <td>18</td>\n",
       "      <td>3.0</td>\n",
       "      <td>28.0</td>\n",
       "      <td>0.0</td>\n",
       "      <td>1215</td>\n",
       "      <td>0.710</td>\n",
       "      <td>1</td>\n",
       "      <td>2</td>\n",
       "      <td>2</td>\n",
       "      <td>0</td>\n",
       "      <td>0</td>\n",
       "    </tr>\n",
       "    <tr>\n",
       "      <th>6</th>\n",
       "      <td>2</td>\n",
       "      <td>538</td>\n",
       "      <td>90</td>\n",
       "      <td>18</td>\n",
       "      <td>3.0</td>\n",
       "      <td>27.0</td>\n",
       "      <td>0.0</td>\n",
       "      <td>1200</td>\n",
       "      <td>0.718</td>\n",
       "      <td>1</td>\n",
       "      <td>3</td>\n",
       "      <td>2</td>\n",
       "      <td>0</td>\n",
       "      <td>0</td>\n",
       "    </tr>\n",
       "    <tr>\n",
       "      <th>7</th>\n",
       "      <td>1</td>\n",
       "      <td>0</td>\n",
       "      <td>80</td>\n",
       "      <td>12</td>\n",
       "      <td>4.0</td>\n",
       "      <td>28.0</td>\n",
       "      <td>0.0</td>\n",
       "      <td>1689</td>\n",
       "      <td>0.712</td>\n",
       "      <td>2</td>\n",
       "      <td>4</td>\n",
       "      <td>2</td>\n",
       "      <td>1</td>\n",
       "      <td>0</td>\n",
       "    </tr>\n",
       "  </tbody>\n",
       "</table>\n",
       "</div>"
      ],
      "text/plain": [
       "   Visit  MR Delay  Age  EDUC  SES  MMSE  CDR  eTIV   nWBV  Subject ID  \\\n",
       "0      1         0   87    14  2.0  27.0  0.0  1987  0.696           0   \n",
       "1      2       457   88    14  2.0  30.0  0.0  2004  0.681           0   \n",
       "5      1         0   88    18  3.0  28.0  0.0  1215  0.710           1   \n",
       "6      2       538   90    18  3.0  27.0  0.0  1200  0.718           1   \n",
       "7      1         0   80    12  4.0  28.0  0.0  1689  0.712           2   \n",
       "\n",
       "   MRI ID  Group  M/F  Hand  \n",
       "0       0      2    1     0  \n",
       "1       1      2    1     0  \n",
       "5       2      2    0     0  \n",
       "6       3      2    0     0  \n",
       "7       4      2    1     0  "
      ]
     },
     "execution_count": 24,
     "metadata": {},
     "output_type": "execute_result"
    }
   ],
   "source": [
    "X.head()"
   ]
  },
  {
   "cell_type": "code",
   "execution_count": 25,
   "id": "f620cc1e",
   "metadata": {},
   "outputs": [
    {
     "data": {
      "text/plain": [
       "2    190\n",
       "1    127\n",
       "0     37\n",
       "Name: Group, dtype: int64"
      ]
     },
     "execution_count": 25,
     "metadata": {},
     "output_type": "execute_result"
    }
   ],
   "source": [
    "Y.value_counts()"
   ]
  },
  {
   "cell_type": "markdown",
   "id": "f7635959",
   "metadata": {},
   "source": [
    "###   train_test_split"
   ]
  },
  {
   "cell_type": "code",
   "execution_count": 26,
   "id": "2817e3e5",
   "metadata": {},
   "outputs": [],
   "source": [
    "from sklearn.model_selection import train_test_split"
   ]
  },
  {
   "cell_type": "code",
   "execution_count": 27,
   "id": "3d2a2865",
   "metadata": {},
   "outputs": [],
   "source": [
    "X_train,X_test,Y_train,Y_test=train_test_split(X,Y,test_size=0.3,random_state=1)"
   ]
  },
  {
   "cell_type": "code",
   "execution_count": 28,
   "id": "e1576baa",
   "metadata": {},
   "outputs": [],
   "source": [
    "from sklearn.preprocessing import StandardScaler\n",
    "#create object of StandardScaler\n",
    "ss=StandardScaler()\n",
    "X_train=ss.fit_transform(X_train)\n",
    "X_test=ss.transform(X_test)"
   ]
  },
  {
   "cell_type": "code",
   "execution_count": 29,
   "id": "6caa9321",
   "metadata": {},
   "outputs": [],
   "source": [
    "from sklearn.metrics import classification_report\n",
    "from sklearn.metrics import confusion_matrix"
   ]
  },
  {
   "cell_type": "code",
   "execution_count": 30,
   "id": "feb1c0b1",
   "metadata": {},
   "outputs": [],
   "source": [
    "def create_model(model):\n",
    "    model.fit(X_train,Y_train)  #for training the model\n",
    "    Y_pred=model.predict(X_test)  #for testing the model\n",
    "    print(classification_report(Y_test,Y_pred))\n",
    "    print(confusion_matrix(Y_test,Y_pred))\n",
    "    "
   ]
  },
  {
   "cell_type": "code",
   "execution_count": 31,
   "id": "2c14e306",
   "metadata": {},
   "outputs": [],
   "source": [
    "# perform logistics\n",
    "from sklearn.linear_model import LogisticRegression\n",
    "#create object of LogisticRegression\n",
    "lr=LogisticRegression()"
   ]
  },
  {
   "cell_type": "code",
   "execution_count": 32,
   "id": "8c85a91f",
   "metadata": {},
   "outputs": [
    {
     "name": "stdout",
     "output_type": "stream",
     "text": [
      "              precision    recall  f1-score   support\n",
      "\n",
      "           0       1.00      1.00      1.00         7\n",
      "           1       1.00      1.00      1.00        45\n",
      "           2       1.00      1.00      1.00        55\n",
      "\n",
      "    accuracy                           1.00       107\n",
      "   macro avg       1.00      1.00      1.00       107\n",
      "weighted avg       1.00      1.00      1.00       107\n",
      "\n",
      "[[ 7  0  0]\n",
      " [ 0 45  0]\n",
      " [ 0  0 55]]\n"
     ]
    }
   ],
   "source": [
    "lr=create_model(lr)"
   ]
  },
  {
   "cell_type": "code",
   "execution_count": 33,
   "id": "aff78cf4",
   "metadata": {},
   "outputs": [
    {
     "name": "stdout",
     "output_type": "stream",
     "text": [
      "              precision    recall  f1-score   support\n",
      "\n",
      "           0       1.00      1.00      1.00         7\n",
      "           1       1.00      1.00      1.00        45\n",
      "           2       1.00      1.00      1.00        55\n",
      "\n",
      "    accuracy                           1.00       107\n",
      "   macro avg       1.00      1.00      1.00       107\n",
      "weighted avg       1.00      1.00      1.00       107\n",
      "\n",
      "[[ 7  0  0]\n",
      " [ 0 45  0]\n",
      " [ 0  0 55]]\n"
     ]
    }
   ],
   "source": [
    "from sklearn.tree import DecisionTreeClassifier\n",
    "#create object of DecisionTreeClassifier\n",
    "dt=DecisionTreeClassifier()\n",
    "dt=create_model(dt)"
   ]
  },
  {
   "cell_type": "code",
   "execution_count": 36,
   "id": "a5cb5d00",
   "metadata": {},
   "outputs": [],
   "source": [
    "#show the information gain of allinpit feature\n",
    "#  IG=dt.feature_importances_ #featuee importance inbuilt method of Decisiom Tre classfifer\n",
    "\n",
    "# print('information Gain :',IG)"
   ]
  },
  {
   "cell_type": "code",
   "execution_count": 38,
   "id": "5dd6b37e",
   "metadata": {},
   "outputs": [],
   "source": [
    "#create dictionary\n",
    "# dict={'input':X.columns,'IG':IG}\n",
    "# df1=pd.DataFrame(dict)\n",
    "# df1\n",
    "# df1.sort_values('IG',ascending=False )#descending order according to iG"
   ]
  },
  {
   "cell_type": "code",
   "execution_count": 39,
   "id": "ca38766d",
   "metadata": {},
   "outputs": [
    {
     "name": "stdout",
     "output_type": "stream",
     "text": [
      "              precision    recall  f1-score   support\n",
      "\n",
      "           0       1.00      1.00      1.00         7\n",
      "           1       1.00      1.00      1.00        45\n",
      "           2       1.00      1.00      1.00        55\n",
      "\n",
      "    accuracy                           1.00       107\n",
      "   macro avg       1.00      1.00      1.00       107\n",
      "weighted avg       1.00      1.00      1.00       107\n",
      "\n",
      "[[ 7  0  0]\n",
      " [ 0 45  0]\n",
      " [ 0  0 55]]\n"
     ]
    }
   ],
   "source": [
    "# perform decision tree with pruning technique\n",
    "from sklearn.tree import DecisionTreeClassifier\n",
    "#create object of DecisionTreeClassifier\n",
    "dt1=DecisionTreeClassifier(random_state=1,max_depth=4)  #bydefault ginny index\n",
    "dt1=create_model(dt1)"
   ]
  },
  {
   "cell_type": "code",
   "execution_count": 40,
   "id": "b2104859",
   "metadata": {},
   "outputs": [
    {
     "name": "stdout",
     "output_type": "stream",
     "text": [
      "              precision    recall  f1-score   support\n",
      "\n",
      "           0       1.00      1.00      1.00         7\n",
      "           1       1.00      1.00      1.00        45\n",
      "           2       1.00      1.00      1.00        55\n",
      "\n",
      "    accuracy                           1.00       107\n",
      "   macro avg       1.00      1.00      1.00       107\n",
      "weighted avg       1.00      1.00      1.00       107\n",
      "\n",
      "[[ 7  0  0]\n",
      " [ 0 45  0]\n",
      " [ 0  0 55]]\n"
     ]
    }
   ],
   "source": [
    "from sklearn.tree import DecisionTreeClassifier\n",
    "#create object of DecisionTreeClassifier\n",
    "dt2=DecisionTreeClassifier(random_state=1,max_depth=4,criterion='entropy')  #bydefault ginny index\n",
    "dt2=create_model(dt2)"
   ]
  },
  {
   "cell_type": "code",
   "execution_count": 41,
   "id": "1a8fcc4e",
   "metadata": {},
   "outputs": [
    {
     "name": "stdout",
     "output_type": "stream",
     "text": [
      "              precision    recall  f1-score   support\n",
      "\n",
      "           0       0.19      0.86      0.31         7\n",
      "           1       0.95      0.42      0.58        45\n",
      "           2       1.00      1.00      1.00        55\n",
      "\n",
      "    accuracy                           0.75       107\n",
      "   macro avg       0.71      0.76      0.63       107\n",
      "weighted avg       0.93      0.75      0.78       107\n",
      "\n",
      "[[ 6  1  0]\n",
      " [26 19  0]\n",
      " [ 0  0 55]]\n",
      "              precision    recall  f1-score   support\n",
      "\n",
      "           0       0.19      0.86      0.31         7\n",
      "           1       0.95      0.42      0.58        45\n",
      "           2       1.00      1.00      1.00        55\n",
      "\n",
      "    accuracy                           0.75       107\n",
      "   macro avg       0.71      0.76      0.63       107\n",
      "weighted avg       0.93      0.75      0.78       107\n",
      "\n",
      "[[ 6  1  0]\n",
      " [26 19  0]\n",
      " [ 0  0 55]]\n"
     ]
    }
   ],
   "source": [
    "# perform decision tree using 2nd pruning technique\n",
    "#2nd purning technique : min_samples_leaf\n",
    "#min_samples_leaf =45 or more means not less than=45\n",
    "##create object of DecisionTreeClassifier class\n",
    "#leaf node means no child\n",
    "\n",
    "#for i in range(45,101,5):\n",
    "    #print(\"min sample leaf: \",i)\n",
    "dt3=DecisionTreeClassifier(random_state=1,min_samples_leaf=45)  #ginny index\n",
    "#call function\n",
    "dt3=create_model(dt3)\n",
    "#2nd purning technique : min_samples_leaf\n",
    "\n",
    "#2nd purning technique : min_samples_leaf\n",
    "#min_samples_leaf =45 or more means not less than=45\n",
    "##create object of DecisionTreeClassifier class\n",
    "#leaf node means no child\n",
    "\n",
    "#for i in range(45,101,5):\n",
    "    #print(\"min sample leaf: \",i)\n",
    "dt3=DecisionTreeClassifier(random_state=1,min_samples_leaf=45)  #ginny index\n",
    "#call function\n",
    "dt3=create_model(dt3)"
   ]
  },
  {
   "cell_type": "code",
   "execution_count": 42,
   "id": "ac207d87",
   "metadata": {},
   "outputs": [
    {
     "name": "stdout",
     "output_type": "stream",
     "text": [
      "              precision    recall  f1-score   support\n",
      "\n",
      "           0       0.19      0.86      0.31         7\n",
      "           1       0.95      0.42      0.58        45\n",
      "           2       1.00      1.00      1.00        55\n",
      "\n",
      "    accuracy                           0.75       107\n",
      "   macro avg       0.71      0.76      0.63       107\n",
      "weighted avg       0.93      0.75      0.78       107\n",
      "\n",
      "[[ 6  1  0]\n",
      " [26 19  0]\n",
      " [ 0  0 55]]\n"
     ]
    }
   ],
   "source": [
    "#for i in range(45,101,5):\n",
    "    #print(\"min sample leaf: \",i)\n",
    "dt3=DecisionTreeClassifier(random_state=1,min_samples_leaf=45,criterion='entropy')  #entropy\n",
    "#call function\n",
    "dt3=create_model(dt3)"
   ]
  },
  {
   "cell_type": "markdown",
   "id": "0967f173",
   "metadata": {},
   "source": [
    "###  random forest "
   ]
  },
  {
   "cell_type": "code",
   "execution_count": 43,
   "id": "32a7e80b",
   "metadata": {},
   "outputs": [
    {
     "data": {
      "text/plain": [
       "(354, 14)"
      ]
     },
     "execution_count": 43,
     "metadata": {},
     "output_type": "execute_result"
    }
   ],
   "source": [
    "X.shape"
   ]
  },
  {
   "cell_type": "code",
   "execution_count": 44,
   "id": "0993a747",
   "metadata": {},
   "outputs": [],
   "source": [
    "from sklearn.ensemble import RandomForestClassifier"
   ]
  },
  {
   "cell_type": "code",
   "execution_count": 45,
   "id": "aa53aa88",
   "metadata": {},
   "outputs": [
    {
     "name": "stdout",
     "output_type": "stream",
     "text": [
      "NO of Dicision Tree :  45\n",
      "              precision    recall  f1-score   support\n",
      "\n",
      "           0       1.00      1.00      1.00         7\n",
      "           1       1.00      1.00      1.00        45\n",
      "           2       1.00      1.00      1.00        55\n",
      "\n",
      "    accuracy                           1.00       107\n",
      "   macro avg       1.00      1.00      1.00       107\n",
      "weighted avg       1.00      1.00      1.00       107\n",
      "\n",
      "[[ 7  0  0]\n",
      " [ 0 45  0]\n",
      " [ 0  0 55]]\n",
      "NO of Dicision Tree :  50\n",
      "              precision    recall  f1-score   support\n",
      "\n",
      "           0       1.00      1.00      1.00         7\n",
      "           1       1.00      1.00      1.00        45\n",
      "           2       1.00      1.00      1.00        55\n",
      "\n",
      "    accuracy                           1.00       107\n",
      "   macro avg       1.00      1.00      1.00       107\n",
      "weighted avg       1.00      1.00      1.00       107\n",
      "\n",
      "[[ 7  0  0]\n",
      " [ 0 45  0]\n",
      " [ 0  0 55]]\n",
      "NO of Dicision Tree :  55\n",
      "              precision    recall  f1-score   support\n",
      "\n",
      "           0       1.00      1.00      1.00         7\n",
      "           1       1.00      1.00      1.00        45\n",
      "           2       1.00      1.00      1.00        55\n",
      "\n",
      "    accuracy                           1.00       107\n",
      "   macro avg       1.00      1.00      1.00       107\n",
      "weighted avg       1.00      1.00      1.00       107\n",
      "\n",
      "[[ 7  0  0]\n",
      " [ 0 45  0]\n",
      " [ 0  0 55]]\n",
      "NO of Dicision Tree :  60\n",
      "              precision    recall  f1-score   support\n",
      "\n",
      "           0       1.00      1.00      1.00         7\n",
      "           1       1.00      1.00      1.00        45\n",
      "           2       1.00      1.00      1.00        55\n",
      "\n",
      "    accuracy                           1.00       107\n",
      "   macro avg       1.00      1.00      1.00       107\n",
      "weighted avg       1.00      1.00      1.00       107\n",
      "\n",
      "[[ 7  0  0]\n",
      " [ 0 45  0]\n",
      " [ 0  0 55]]\n",
      "NO of Dicision Tree :  65\n",
      "              precision    recall  f1-score   support\n",
      "\n",
      "           0       1.00      1.00      1.00         7\n",
      "           1       1.00      1.00      1.00        45\n",
      "           2       1.00      1.00      1.00        55\n",
      "\n",
      "    accuracy                           1.00       107\n",
      "   macro avg       1.00      1.00      1.00       107\n",
      "weighted avg       1.00      1.00      1.00       107\n",
      "\n",
      "[[ 7  0  0]\n",
      " [ 0 45  0]\n",
      " [ 0  0 55]]\n",
      "NO of Dicision Tree :  70\n",
      "              precision    recall  f1-score   support\n",
      "\n",
      "           0       1.00      1.00      1.00         7\n",
      "           1       1.00      1.00      1.00        45\n",
      "           2       1.00      1.00      1.00        55\n",
      "\n",
      "    accuracy                           1.00       107\n",
      "   macro avg       1.00      1.00      1.00       107\n",
      "weighted avg       1.00      1.00      1.00       107\n",
      "\n",
      "[[ 7  0  0]\n",
      " [ 0 45  0]\n",
      " [ 0  0 55]]\n",
      "NO of Dicision Tree :  75\n",
      "              precision    recall  f1-score   support\n",
      "\n",
      "           0       1.00      1.00      1.00         7\n",
      "           1       1.00      1.00      1.00        45\n",
      "           2       1.00      1.00      1.00        55\n",
      "\n",
      "    accuracy                           1.00       107\n",
      "   macro avg       1.00      1.00      1.00       107\n",
      "weighted avg       1.00      1.00      1.00       107\n",
      "\n",
      "[[ 7  0  0]\n",
      " [ 0 45  0]\n",
      " [ 0  0 55]]\n",
      "NO of Dicision Tree :  80\n",
      "              precision    recall  f1-score   support\n",
      "\n",
      "           0       1.00      1.00      1.00         7\n",
      "           1       1.00      1.00      1.00        45\n",
      "           2       1.00      1.00      1.00        55\n",
      "\n",
      "    accuracy                           1.00       107\n",
      "   macro avg       1.00      1.00      1.00       107\n",
      "weighted avg       1.00      1.00      1.00       107\n",
      "\n",
      "[[ 7  0  0]\n",
      " [ 0 45  0]\n",
      " [ 0  0 55]]\n",
      "NO of Dicision Tree :  85\n",
      "              precision    recall  f1-score   support\n",
      "\n",
      "           0       1.00      1.00      1.00         7\n",
      "           1       1.00      1.00      1.00        45\n",
      "           2       1.00      1.00      1.00        55\n",
      "\n",
      "    accuracy                           1.00       107\n",
      "   macro avg       1.00      1.00      1.00       107\n",
      "weighted avg       1.00      1.00      1.00       107\n",
      "\n",
      "[[ 7  0  0]\n",
      " [ 0 45  0]\n",
      " [ 0  0 55]]\n",
      "NO of Dicision Tree :  90\n",
      "              precision    recall  f1-score   support\n",
      "\n",
      "           0       1.00      1.00      1.00         7\n",
      "           1       1.00      1.00      1.00        45\n",
      "           2       1.00      1.00      1.00        55\n",
      "\n",
      "    accuracy                           1.00       107\n",
      "   macro avg       1.00      1.00      1.00       107\n",
      "weighted avg       1.00      1.00      1.00       107\n",
      "\n",
      "[[ 7  0  0]\n",
      " [ 0 45  0]\n",
      " [ 0  0 55]]\n",
      "NO of Dicision Tree :  95\n",
      "              precision    recall  f1-score   support\n",
      "\n",
      "           0       1.00      1.00      1.00         7\n",
      "           1       1.00      1.00      1.00        45\n",
      "           2       1.00      1.00      1.00        55\n",
      "\n",
      "    accuracy                           1.00       107\n",
      "   macro avg       1.00      1.00      1.00       107\n",
      "weighted avg       1.00      1.00      1.00       107\n",
      "\n",
      "[[ 7  0  0]\n",
      " [ 0 45  0]\n",
      " [ 0  0 55]]\n",
      "NO of Dicision Tree :  100\n",
      "              precision    recall  f1-score   support\n",
      "\n",
      "           0       1.00      1.00      1.00         7\n",
      "           1       1.00      1.00      1.00        45\n",
      "           2       1.00      1.00      1.00        55\n",
      "\n",
      "    accuracy                           1.00       107\n",
      "   macro avg       1.00      1.00      1.00       107\n",
      "weighted avg       1.00      1.00      1.00       107\n",
      "\n",
      "[[ 7  0  0]\n",
      " [ 0 45  0]\n",
      " [ 0  0 55]]\n"
     ]
    }
   ],
   "source": [
    "#create  object of Random forest Tree \n",
    "for i in range(45,101,5):\n",
    "    rfc=RandomForestClassifier(n_estimators=i,max_features=10,random_state=1)\n",
    "    #bydefault gini\n",
    "    #call the function\n",
    "    print(\"NO of Dicision Tree : \",i)\n",
    "    rfc=create_model(rfc)\n",
    "    #here n_estimators means take how many no. of decisiontree \n",
    "#max_features means take how many input"
   ]
  },
  {
   "cell_type": "code",
   "execution_count": 46,
   "id": "269e79bd",
   "metadata": {},
   "outputs": [
    {
     "name": "stdout",
     "output_type": "stream",
     "text": [
      "NO of Dicision Tree :  45\n",
      "              precision    recall  f1-score   support\n",
      "\n",
      "           0       1.00      1.00      1.00         7\n",
      "           1       1.00      1.00      1.00        45\n",
      "           2       1.00      1.00      1.00        55\n",
      "\n",
      "    accuracy                           1.00       107\n",
      "   macro avg       1.00      1.00      1.00       107\n",
      "weighted avg       1.00      1.00      1.00       107\n",
      "\n",
      "[[ 7  0  0]\n",
      " [ 0 45  0]\n",
      " [ 0  0 55]]\n",
      "NO of Dicision Tree :  50\n",
      "              precision    recall  f1-score   support\n",
      "\n",
      "           0       1.00      1.00      1.00         7\n",
      "           1       1.00      1.00      1.00        45\n",
      "           2       1.00      1.00      1.00        55\n",
      "\n",
      "    accuracy                           1.00       107\n",
      "   macro avg       1.00      1.00      1.00       107\n",
      "weighted avg       1.00      1.00      1.00       107\n",
      "\n",
      "[[ 7  0  0]\n",
      " [ 0 45  0]\n",
      " [ 0  0 55]]\n",
      "NO of Dicision Tree :  55\n",
      "              precision    recall  f1-score   support\n",
      "\n",
      "           0       1.00      1.00      1.00         7\n",
      "           1       1.00      1.00      1.00        45\n",
      "           2       1.00      1.00      1.00        55\n",
      "\n",
      "    accuracy                           1.00       107\n",
      "   macro avg       1.00      1.00      1.00       107\n",
      "weighted avg       1.00      1.00      1.00       107\n",
      "\n",
      "[[ 7  0  0]\n",
      " [ 0 45  0]\n",
      " [ 0  0 55]]\n",
      "NO of Dicision Tree :  60\n",
      "              precision    recall  f1-score   support\n",
      "\n",
      "           0       1.00      1.00      1.00         7\n",
      "           1       1.00      1.00      1.00        45\n",
      "           2       1.00      1.00      1.00        55\n",
      "\n",
      "    accuracy                           1.00       107\n",
      "   macro avg       1.00      1.00      1.00       107\n",
      "weighted avg       1.00      1.00      1.00       107\n",
      "\n",
      "[[ 7  0  0]\n",
      " [ 0 45  0]\n",
      " [ 0  0 55]]\n",
      "NO of Dicision Tree :  65\n",
      "              precision    recall  f1-score   support\n",
      "\n",
      "           0       1.00      1.00      1.00         7\n",
      "           1       1.00      1.00      1.00        45\n",
      "           2       1.00      1.00      1.00        55\n",
      "\n",
      "    accuracy                           1.00       107\n",
      "   macro avg       1.00      1.00      1.00       107\n",
      "weighted avg       1.00      1.00      1.00       107\n",
      "\n",
      "[[ 7  0  0]\n",
      " [ 0 45  0]\n",
      " [ 0  0 55]]\n",
      "NO of Dicision Tree :  70\n",
      "              precision    recall  f1-score   support\n",
      "\n",
      "           0       1.00      1.00      1.00         7\n",
      "           1       1.00      1.00      1.00        45\n",
      "           2       1.00      1.00      1.00        55\n",
      "\n",
      "    accuracy                           1.00       107\n",
      "   macro avg       1.00      1.00      1.00       107\n",
      "weighted avg       1.00      1.00      1.00       107\n",
      "\n",
      "[[ 7  0  0]\n",
      " [ 0 45  0]\n",
      " [ 0  0 55]]\n",
      "NO of Dicision Tree :  75\n",
      "              precision    recall  f1-score   support\n",
      "\n",
      "           0       1.00      1.00      1.00         7\n",
      "           1       1.00      1.00      1.00        45\n",
      "           2       1.00      1.00      1.00        55\n",
      "\n",
      "    accuracy                           1.00       107\n",
      "   macro avg       1.00      1.00      1.00       107\n",
      "weighted avg       1.00      1.00      1.00       107\n",
      "\n",
      "[[ 7  0  0]\n",
      " [ 0 45  0]\n",
      " [ 0  0 55]]\n",
      "NO of Dicision Tree :  80\n",
      "              precision    recall  f1-score   support\n",
      "\n",
      "           0       1.00      1.00      1.00         7\n",
      "           1       1.00      1.00      1.00        45\n",
      "           2       1.00      1.00      1.00        55\n",
      "\n",
      "    accuracy                           1.00       107\n",
      "   macro avg       1.00      1.00      1.00       107\n",
      "weighted avg       1.00      1.00      1.00       107\n",
      "\n",
      "[[ 7  0  0]\n",
      " [ 0 45  0]\n",
      " [ 0  0 55]]\n",
      "NO of Dicision Tree :  85\n",
      "              precision    recall  f1-score   support\n",
      "\n",
      "           0       1.00      1.00      1.00         7\n",
      "           1       1.00      1.00      1.00        45\n",
      "           2       1.00      1.00      1.00        55\n",
      "\n",
      "    accuracy                           1.00       107\n",
      "   macro avg       1.00      1.00      1.00       107\n",
      "weighted avg       1.00      1.00      1.00       107\n",
      "\n",
      "[[ 7  0  0]\n",
      " [ 0 45  0]\n",
      " [ 0  0 55]]\n",
      "NO of Dicision Tree :  90\n",
      "              precision    recall  f1-score   support\n",
      "\n",
      "           0       1.00      1.00      1.00         7\n",
      "           1       1.00      1.00      1.00        45\n",
      "           2       1.00      1.00      1.00        55\n",
      "\n",
      "    accuracy                           1.00       107\n",
      "   macro avg       1.00      1.00      1.00       107\n",
      "weighted avg       1.00      1.00      1.00       107\n",
      "\n",
      "[[ 7  0  0]\n",
      " [ 0 45  0]\n",
      " [ 0  0 55]]\n",
      "NO of Dicision Tree :  95\n",
      "              precision    recall  f1-score   support\n",
      "\n",
      "           0       1.00      1.00      1.00         7\n",
      "           1       1.00      1.00      1.00        45\n",
      "           2       1.00      1.00      1.00        55\n",
      "\n",
      "    accuracy                           1.00       107\n",
      "   macro avg       1.00      1.00      1.00       107\n",
      "weighted avg       1.00      1.00      1.00       107\n",
      "\n",
      "[[ 7  0  0]\n",
      " [ 0 45  0]\n",
      " [ 0  0 55]]\n",
      "NO of Dicision Tree :  100\n",
      "              precision    recall  f1-score   support\n",
      "\n",
      "           0       1.00      1.00      1.00         7\n",
      "           1       1.00      1.00      1.00        45\n",
      "           2       1.00      1.00      1.00        55\n",
      "\n",
      "    accuracy                           1.00       107\n",
      "   macro avg       1.00      1.00      1.00       107\n",
      "weighted avg       1.00      1.00      1.00       107\n",
      "\n",
      "[[ 7  0  0]\n",
      " [ 0 45  0]\n",
      " [ 0  0 55]]\n"
     ]
    }
   ],
   "source": [
    "#create  object of Random forest Tree \n",
    "for i in range(45,101,5):\n",
    "    rfc=RandomForestClassifier(n_estimators=i,max_features=10,random_state=1,criterion='entropy')\n",
    "    #bydefault gini\n",
    "    #call the function\n",
    "    print(\"NO of Dicision Tree : \",i)\n",
    "    rfc=create_model(rfc)\n",
    "    #here n_estimators means take how many no. of decisiontree \n",
    "#max_features means take how many input"
   ]
  },
  {
   "cell_type": "markdown",
   "id": "bd1415ba",
   "metadata": {},
   "source": [
    "###  ADA BOOST"
   ]
  },
  {
   "cell_type": "code",
   "execution_count": 47,
   "id": "fbfa5b05",
   "metadata": {},
   "outputs": [],
   "source": [
    "from sklearn.ensemble import AdaBoostClassifier"
   ]
  },
  {
   "cell_type": "code",
   "execution_count": 48,
   "id": "69a68003",
   "metadata": {},
   "outputs": [
    {
     "name": "stdout",
     "output_type": "stream",
     "text": [
      "              precision    recall  f1-score   support\n",
      "\n",
      "           0       1.00      1.00      1.00         7\n",
      "           1       1.00      1.00      1.00        45\n",
      "           2       1.00      1.00      1.00        55\n",
      "\n",
      "    accuracy                           1.00       107\n",
      "   macro avg       1.00      1.00      1.00       107\n",
      "weighted avg       1.00      1.00      1.00       107\n",
      "\n",
      "[[ 7  0  0]\n",
      " [ 0 45  0]\n",
      " [ 0  0 55]]\n"
     ]
    }
   ],
   "source": [
    "#create object of Ada boostClassifier class\n",
    "#for i in range(1,12):\n",
    "ada=AdaBoostClassifier(random_state=1,n_estimators=9)\n",
    "ada=create_model(ada)#call the function\n",
    "#print(\"no of features : \",i)"
   ]
  },
  {
   "cell_type": "markdown",
   "id": "7d7ed76b",
   "metadata": {},
   "source": [
    "###  Gradient Boost"
   ]
  },
  {
   "cell_type": "code",
   "execution_count": 49,
   "id": "86945ae6",
   "metadata": {},
   "outputs": [],
   "source": [
    "from sklearn.ensemble import GradientBoostingClassifier"
   ]
  },
  {
   "cell_type": "code",
   "execution_count": 50,
   "id": "efa277e8",
   "metadata": {},
   "outputs": [
    {
     "name": "stdout",
     "output_type": "stream",
     "text": [
      "              precision    recall  f1-score   support\n",
      "\n",
      "           0       0.00      0.00      0.00         7\n",
      "           1       0.00      0.00      0.00        45\n",
      "           2       0.51      1.00      0.68        55\n",
      "\n",
      "    accuracy                           0.51       107\n",
      "   macro avg       0.17      0.33      0.23       107\n",
      "weighted avg       0.26      0.51      0.35       107\n",
      "\n",
      "[[ 0  0  7]\n",
      " [ 0  0 45]\n",
      " [ 0  0 55]]\n"
     ]
    }
   ],
   "source": [
    "#CREATE THE OBJECT OF GRADIENT BOOST CLASSIFIER\n",
    "#for i in range(1,101):\n",
    "gbc=GradientBoostingClassifier(random_state=1,n_estimators=1)\n",
    "    #call the function\n",
    "gbc=create_model(gbc)\n",
    "#print(\"no of n_estimators or DC :\",i)\n",
    "#n_estimators can be <=100\n",
    "#algo use decision treeclassiifer"
   ]
  },
  {
   "cell_type": "markdown",
   "id": "d6134d32",
   "metadata": {},
   "source": [
    "###  XGB Gradient Boost"
   ]
  },
  {
   "cell_type": "code",
   "execution_count": 51,
   "id": "9dbfea2e",
   "metadata": {},
   "outputs": [],
   "source": [
    "from xgboost import XGBClassifier"
   ]
  },
  {
   "cell_type": "code",
   "execution_count": 52,
   "id": "6bc1911b",
   "metadata": {},
   "outputs": [
    {
     "name": "stdout",
     "output_type": "stream",
     "text": [
      "              precision    recall  f1-score   support\n",
      "\n",
      "           0       1.00      1.00      1.00         7\n",
      "           1       1.00      1.00      1.00        45\n",
      "           2       1.00      1.00      1.00        55\n",
      "\n",
      "    accuracy                           1.00       107\n",
      "   macro avg       1.00      1.00      1.00       107\n",
      "weighted avg       1.00      1.00      1.00       107\n",
      "\n",
      "[[ 7  0  0]\n",
      " [ 0 45  0]\n",
      " [ 0  0 55]]\n"
     ]
    }
   ],
   "source": [
    "#create obejct of class XGB classifier\n",
    "#for i in range(1,101):\n",
    "xgc=XGBClassifier(n_estimators=10,random_state=1,reg_alpha=1)\n",
    "#automatic overfitiing : reg means regularisation and alpha or lambda:\n",
    "#hyper parameter\n",
    "#n_estimator<=100\n",
    "#call the function\n",
    "xgc=create_model(xgc)\n",
    "#print(\"no of estimator : \", i)"
   ]
  },
  {
   "cell_type": "markdown",
   "id": "338204a1",
   "metadata": {},
   "source": [
    "###  Support Vector machine"
   ]
  },
  {
   "cell_type": "code",
   "execution_count": 53,
   "id": "e3a3c265",
   "metadata": {},
   "outputs": [],
   "source": [
    "from sklearn.svm import LinearSVC"
   ]
  },
  {
   "cell_type": "code",
   "execution_count": 54,
   "id": "7ab3d452",
   "metadata": {},
   "outputs": [],
   "source": [
    "#create object of LinearSVC Class\n",
    "svc=LinearSVC(random_state=1)  #hard margin by default"
   ]
  },
  {
   "cell_type": "code",
   "execution_count": 55,
   "id": "123ab2f2",
   "metadata": {},
   "outputs": [
    {
     "name": "stdout",
     "output_type": "stream",
     "text": [
      "              precision    recall  f1-score   support\n",
      "\n",
      "           0       1.00      1.00      1.00         7\n",
      "           1       0.98      1.00      0.99        45\n",
      "           2       1.00      0.98      0.99        55\n",
      "\n",
      "    accuracy                           0.99       107\n",
      "   macro avg       0.99      0.99      0.99       107\n",
      "weighted avg       0.99      0.99      0.99       107\n",
      "\n",
      "[[ 7  0  0]\n",
      " [ 0 45  0]\n",
      " [ 0  1 54]]\n"
     ]
    }
   ],
   "source": [
    "#Call function\n",
    "svc=create_model(svc)"
   ]
  },
  {
   "cell_type": "markdown",
   "id": "c8204e5d",
   "metadata": {},
   "source": [
    "###  K-NN"
   ]
  },
  {
   "cell_type": "code",
   "execution_count": 56,
   "id": "97493d83",
   "metadata": {},
   "outputs": [],
   "source": [
    "from sklearn.neighbors import KNeighborsClassifier"
   ]
  },
  {
   "cell_type": "code",
   "execution_count": 57,
   "id": "1fc4a34a",
   "metadata": {},
   "outputs": [],
   "source": [
    "#create the object of Neighborsclassifier\n",
    "#Create the object of KNeighborsClassifier  \n",
    "knc= KNeighborsClassifier(n_neighbors=5, metric='minkowski', p=2) \n",
    "#p=2 means Euclidean distance means sqrt(x2-x1)*2+(y2-y1)*2\n",
    "#n_neighbors means k means select minimum point (always odd)\n",
    "#best value of k=5"
   ]
  },
  {
   "cell_type": "code",
   "execution_count": 58,
   "id": "fa227fe0",
   "metadata": {},
   "outputs": [
    {
     "name": "stdout",
     "output_type": "stream",
     "text": [
      "              precision    recall  f1-score   support\n",
      "\n",
      "           0       0.64      1.00      0.78         7\n",
      "           1       0.97      0.87      0.92        45\n",
      "           2       0.96      0.98      0.97        55\n",
      "\n",
      "    accuracy                           0.93       107\n",
      "   macro avg       0.86      0.95      0.89       107\n",
      "weighted avg       0.95      0.93      0.94       107\n",
      "\n",
      "[[ 7  0  0]\n",
      " [ 4 39  2]\n",
      " [ 0  1 54]]\n"
     ]
    }
   ],
   "source": [
    "knc=create_model(knc)"
   ]
  },
  {
   "cell_type": "markdown",
   "id": "c502c308",
   "metadata": {},
   "source": [
    "###  Naive Bayes"
   ]
  },
  {
   "cell_type": "code",
   "execution_count": 59,
   "id": "1920ea79",
   "metadata": {},
   "outputs": [],
   "source": [
    "from sklearn.naive_bayes import GaussianNB"
   ]
  },
  {
   "cell_type": "code",
   "execution_count": 60,
   "id": "9e44107a",
   "metadata": {},
   "outputs": [],
   "source": [
    "#create thr functiom\n",
    "gnb=GaussianNB()"
   ]
  },
  {
   "cell_type": "code",
   "execution_count": 61,
   "id": "f35a9db9",
   "metadata": {},
   "outputs": [
    {
     "name": "stdout",
     "output_type": "stream",
     "text": [
      "              precision    recall  f1-score   support\n",
      "\n",
      "           0       1.00      1.00      1.00         7\n",
      "           1       1.00      1.00      1.00        45\n",
      "           2       1.00      1.00      1.00        55\n",
      "\n",
      "    accuracy                           1.00       107\n",
      "   macro avg       1.00      1.00      1.00       107\n",
      "weighted avg       1.00      1.00      1.00       107\n",
      "\n",
      "[[ 7  0  0]\n",
      " [ 0 45  0]\n",
      " [ 0  0 55]]\n"
     ]
    }
   ],
   "source": [
    "#call the function\n",
    "gnb=create_model(gnb)"
   ]
  },
  {
   "cell_type": "markdown",
   "id": "e556aa2c",
   "metadata": {},
   "source": [
    "###  Conclusion"
   ]
  },
  {
   "cell_type": "code",
   "execution_count": null,
   "id": "65ec0019",
   "metadata": {},
   "outputs": [],
   "source": [
    "gradient boosting algo has the highest accuracy of 96%"
   ]
  }
 ],
 "metadata": {
  "kernelspec": {
   "display_name": "Python 3 (ipykernel)",
   "language": "python",
   "name": "python3"
  },
  "language_info": {
   "codemirror_mode": {
    "name": "ipython",
    "version": 3
   },
   "file_extension": ".py",
   "mimetype": "text/x-python",
   "name": "python",
   "nbconvert_exporter": "python",
   "pygments_lexer": "ipython3",
   "version": "3.10.1"
  }
 },
 "nbformat": 4,
 "nbformat_minor": 5
}
